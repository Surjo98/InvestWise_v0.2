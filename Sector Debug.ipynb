{
 "cells": [
  {
   "cell_type": "code",
   "execution_count": 130,
   "metadata": {},
   "outputs": [],
   "source": [
    "import numpy as np\n",
    "import pandas as pd\n",
    "import math\n",
    "import os\n",
    "import re\n",
    "from openpyxl import load_workbook\n",
    "\n",
    "from sklearn.impute import KNNImputer"
   ]
  },
  {
   "cell_type": "code",
   "execution_count": 131,
   "metadata": {},
   "outputs": [],
   "source": [
    "# df1 = pd.read_excel(\"data/Healthcare.xlsx\", sheet_name=\"TT\")\n",
    "# df2 = pd.read_excel(\"data/Healthcare.xlsx\", sheet_name=\"TL\")\n",
    "\n",
    "# df2.drop(columns=['Stock Name', 'BSE code', 'ISIN', 'Current Price', 'Industry Name'], inplace=True)\n",
    "# df2.rename(columns={'NSE code': 'Ticker'}, inplace=True)\n",
    "\n",
    "# df = pd.merge(df1, df2, on='Ticker', how='inner')\n",
    "\n",
    "df = pd.read_excel('Sector_Universe_Data.xlsx', sheet_name='Energy')"
   ]
  },
  {
   "cell_type": "code",
   "execution_count": 132,
   "metadata": {},
   "outputs": [],
   "source": [
    "def categorize_market_cap(row):\n",
    "    if row['Market Cap'] > 82000:\n",
    "        return 'Large'\n",
    "    elif 26000 < row['Market Cap'] <= 82000:\n",
    "        return 'Medium'\n",
    "    else:\n",
    "        return 'Small'\n",
    "\n",
    "df['Market Cap'] = df.apply(categorize_market_cap, axis=1)"
   ]
  },
  {
   "cell_type": "markdown",
   "metadata": {},
   "source": [
    "## Data Cleaning"
   ]
  },
  {
   "cell_type": "code",
   "execution_count": 133,
   "metadata": {},
   "outputs": [
    {
     "data": {
      "text/plain": [
       "Insider Trades - 3M Cumulative    33\n",
       "1Y Forward EPS Growth             27\n",
       "1Y Forward Revenue Growth         27\n",
       "Dividend Yield                    21\n",
       "Bulk Deals - 3M Cumulative        19\n",
       "EV / Free Cash Flow               16\n",
       "Price / CFO                        6\n",
       "Cash Conversion Cycle              5\n",
       "EV/EBITDA Ratio                    5\n",
       "Inventory Turnover Ratio           4\n",
       "Return on Equity                   3\n",
       "Interest Coverage Ratio            3\n",
       "Return on Investment               2\n",
       "EV / Invested Capital              2\n",
       "Altman Zscore                      2\n",
       "1Y Historical Revenue Growth       1\n",
       "Promoter Holding Change – 3M       1\n",
       "MF Holding Change – 3M             1\n",
       "FII Holding Change – 3M            1\n",
       "DII Holding Change – 3M            1\n",
       "1Y Historical EPS Growth           0\n",
       "Piotroski Score                    0\n",
       "Name                               0\n",
       "EV / Revenue Ratio                 0\n",
       "Ticker                             0\n",
       "PB Ratio                           0\n",
       "PE Ratio                           0\n",
       "Current Ratio                      0\n",
       "Working Capital Turnover Ratio     0\n",
       "Asset Turnover Ratio               0\n",
       "Net Profit Margin                  0\n",
       "Return on Assets                   0\n",
       "ROCE                               0\n",
       "Market Cap                         0\n",
       "Sub-Sector                         0\n",
       "Sector                             0\n",
       "Price / Sales                      0\n",
       "dtype: int64"
      ]
     },
     "execution_count": 133,
     "metadata": {},
     "output_type": "execute_result"
    }
   ],
   "source": [
    "df.isna().sum().sort_values(ascending=False)"
   ]
  },
  {
   "cell_type": "code",
   "execution_count": 134,
   "metadata": {},
   "outputs": [],
   "source": [
    "df.columns = df.columns.str.strip()"
   ]
  },
  {
   "cell_type": "code",
   "execution_count": 135,
   "metadata": {},
   "outputs": [],
   "source": [
    "def clean_column_name(column_name):\n",
    "    # Keep only letters, numbers, spaces, and '/'\n",
    "    cleaned_name = re.sub(r'[^a-zA-Z0-9 / -]', '', column_name)\n",
    "    return cleaned_name\n",
    "\n",
    "# Applying the cleaning function to column names\n",
    "df.columns = [clean_column_name(col) for col in df.columns]"
   ]
  },
  {
   "cell_type": "code",
   "execution_count": 136,
   "metadata": {},
   "outputs": [
    {
     "name": "stderr",
     "output_type": "stream",
     "text": [
      "C:\\Users\\siddh\\AppData\\Local\\Temp\\ipykernel_10712\\1483150914.py:11: SettingWithCopyWarning: \n",
      "A value is trying to be set on a copy of a slice from a DataFrame\n",
      "\n",
      "See the caveats in the documentation: https://pandas.pydata.org/pandas-docs/stable/user_guide/indexing.html#returning-a-view-versus-a-copy\n",
      "  df[columns_to_fill_zero].fillna(0, inplace=True)\n"
     ]
    }
   ],
   "source": [
    "columns_to_fill_zero = [\n",
    "    'Insider Trades - 3M Cumulative',\n",
    "    'Bulk Deals - 3M Cumulative',\n",
    "    'FII Holding Change3M',\n",
    "    'DII Holding Change3M',\n",
    "    'MF Holding Change3M',\n",
    "    'Promoter Holding Change3M',\n",
    "    'Dividend Yield'\n",
    "]\n",
    "\n",
    "df[columns_to_fill_zero].fillna(0, inplace=True)\n",
    "\n",
    "for col in df.columns:\n",
    "    if df[col].isna().sum() >= 0.25 * len(df):\n",
    "        df[col].fillna(0, inplace=True)"
   ]
  },
  {
   "cell_type": "code",
   "execution_count": 137,
   "metadata": {},
   "outputs": [
    {
     "name": "stderr",
     "output_type": "stream",
     "text": [
      "C:\\Users\\siddh\\AppData\\Local\\Temp\\ipykernel_10712\\1647451145.py:12: SettingWithCopyWarning: \n",
      "A value is trying to be set on a copy of a slice from a DataFrame.\n",
      "Try using .loc[row_indexer,col_indexer] = value instead\n",
      "\n",
      "See the caveats in the documentation: https://pandas.pydata.org/pandas-docs/stable/user_guide/indexing.html#returning-a-view-versus-a-copy\n",
      "  segment_df[numeric_cols] = imputer.fit_transform(segment_df[numeric_cols])\n",
      "C:\\Users\\siddh\\AppData\\Local\\Temp\\ipykernel_10712\\1647451145.py:12: SettingWithCopyWarning: \n",
      "A value is trying to be set on a copy of a slice from a DataFrame.\n",
      "Try using .loc[row_indexer,col_indexer] = value instead\n",
      "\n",
      "See the caveats in the documentation: https://pandas.pydata.org/pandas-docs/stable/user_guide/indexing.html#returning-a-view-versus-a-copy\n",
      "  segment_df[numeric_cols] = imputer.fit_transform(segment_df[numeric_cols])\n",
      "C:\\Users\\siddh\\AppData\\Local\\Temp\\ipykernel_10712\\1647451145.py:12: SettingWithCopyWarning: \n",
      "A value is trying to be set on a copy of a slice from a DataFrame.\n",
      "Try using .loc[row_indexer,col_indexer] = value instead\n",
      "\n",
      "See the caveats in the documentation: https://pandas.pydata.org/pandas-docs/stable/user_guide/indexing.html#returning-a-view-versus-a-copy\n",
      "  segment_df[numeric_cols] = imputer.fit_transform(segment_df[numeric_cols])\n"
     ]
    }
   ],
   "source": [
    "# Segmenting the DataFrame\n",
    "small_df = df[df['Market Cap'] == 'Small']\n",
    "medium_df = df[df['Market Cap'] == 'Medium']\n",
    "large_df = df[df['Market Cap'] == 'Large']\n",
    "\n",
    "\n",
    "def apply_knn_imputation(segment_df):\n",
    "    # excluding non-numeric columns\n",
    "    numeric_cols = segment_df.select_dtypes(include=[np.number]).columns\n",
    "    \n",
    "    imputer = KNNImputer(n_neighbors=5)\n",
    "    segment_df[numeric_cols] = imputer.fit_transform(segment_df[numeric_cols])\n",
    "    \n",
    "    return segment_df\n",
    "\n",
    "# Apply KNN Imputation to each segment\n",
    "small_df_imputed = apply_knn_imputation(small_df)\n",
    "medium_df_imputed = apply_knn_imputation(medium_df)\n",
    "large_df_imputed = apply_knn_imputation(large_df)\n",
    "\n",
    "df = pd.concat([small_df_imputed, medium_df_imputed, large_df_imputed])"
   ]
  },
  {
   "cell_type": "code",
   "execution_count": 104,
   "metadata": {},
   "outputs": [],
   "source": [
    "def create_inverse(df, column):\n",
    "    \n",
    "    # Calculate inverse of specified column, handling zeros\n",
    "    inverse_column = 1 / df[column].replace(0, np.nan)\n",
    "    max_value = inverse_column.max()\n",
    "    inverse_column = inverse_column.apply(lambda x: abs(x) + max_value if x < 0 else x)\n",
    "    inverse_column.fillna(max_value + 1, inplace=True)\n",
    "    \n",
    "    df[column] = inverse_column\n",
    "    return df\n"
   ]
  },
  {
   "cell_type": "markdown",
   "metadata": {},
   "source": [
    "## Feature Engineering"
   ]
  },
  {
   "cell_type": "code",
   "execution_count": 105,
   "metadata": {},
   "outputs": [],
   "source": [
    "df['Altman Zscore'] = df['Altman Zscore'] - 3\n",
    "\n",
    "df['Fundamentals'] = df['Piotroski Score'] * df['Altman Zscore']\n",
    "\n",
    "df.drop(columns=['Piotroski Score', 'Altman Zscore'], inplace=True)"
   ]
  },
  {
   "cell_type": "code",
   "execution_count": 106,
   "metadata": {},
   "outputs": [],
   "source": [
    "investor_cols = ['FII Holding Change3M', 'DII Holding Change3M', 'MF Holding Change3M', 'Promoter Holding Change3M', 'Insider Trades - 3M Cumulative', 'Bulk Deals - 3M Cumulative']\n",
    "\n",
    "df['Investor Sentiment'] = df[investor_cols].mean(axis=1)\n",
    "\n",
    "insider_cols = ['Insider Trades - 3M Cumulative', 'Promoter Holding Change3M']\n",
    "\n",
    "df['Promoter Sentiment'] = df[insider_cols].mean(axis=1)\n",
    "\n",
    "# drop the original columns\n",
    "df.drop(columns=investor_cols+insider_cols, inplace=True)"
   ]
  },
  {
   "cell_type": "code",
   "execution_count": 107,
   "metadata": {},
   "outputs": [],
   "source": [
    "price_cols = ['Price / Sales', 'Price / CFO']\n",
    "\n",
    "df['Pricing'] = df[price_cols].mean(axis=1)*df['PE Ratio']*df['PB Ratio']\n",
    "\n",
    "# drop the original columns\n",
    "df.drop(columns=price_cols+['PE Ratio', 'PB Ratio'], inplace=True)"
   ]
  },
  {
   "cell_type": "code",
   "execution_count": 108,
   "metadata": {},
   "outputs": [],
   "source": [
    "valuation_cols = ['EV / Invested Capital','EV / Revenue Ratio', 'EV / Free Cash Flow', 'EV/EBITDA Ratio']\n",
    "\n",
    "df['Valuation'] = df[valuation_cols].mean(axis=1)\n",
    "\n",
    "# drop the original columns\n",
    "df.drop(columns=valuation_cols, inplace=True)"
   ]
  },
  {
   "cell_type": "code",
   "execution_count": 109,
   "metadata": {},
   "outputs": [],
   "source": [
    "# Assuming 'df' is your DataFrame\n",
    "profitability_cols = ['Return on Investment', 'ROCE', 'Return on Equity', 'Return on Assets', 'Dividend Yield']\n",
    "\n",
    "# Create a new column 'Profitability' as the mean of the selected columns\n",
    "df['Profitability'] = df[profitability_cols].mean(axis=1)*df['Net Profit Margin']\n",
    "\n",
    "# drop the original columns\n",
    "df.drop(columns=profitability_cols+['Net Profit Margin'], inplace=True)"
   ]
  },
  {
   "cell_type": "code",
   "execution_count": 110,
   "metadata": {},
   "outputs": [],
   "source": [
    "df = create_inverse(df, 'Cash Conversion Cycle')\n",
    "\n",
    "turnover_cols = ['Interest Coverage Ratio', 'Asset Turnover Ratio', 'Inventory Turnover Ratio', 'Working Capital Turnover Ratio']\n",
    "\n",
    "# Create a new column 'Financial Health' as the mean of the selected columns\n",
    "df['Business Turnover'] = df[turnover_cols].mean(axis=1)*df['Current Ratio']*df['Cash Conversion Cycle']\n",
    "\n",
    "# drop the original columns\n",
    "df.drop(columns=turnover_cols +['Current Ratio', 'Cash Conversion Cycle'], inplace=True)"
   ]
  },
  {
   "cell_type": "code",
   "execution_count": 111,
   "metadata": {},
   "outputs": [],
   "source": [
    "future_eps = df['1Y Forward EPS Growth'] - df['1Y Historical EPS Growth']\n",
    "future_rev = df['1Y Forward Revenue Growth'] - df['1Y Historical Revenue Growth']\n",
    "\n",
    "df['Future Growth'] = future_eps + future_rev\n",
    "\n",
    "df.drop(columns=['1Y Forward EPS Growth', '1Y Historical EPS Growth', '1Y Forward Revenue Growth', '1Y Historical Revenue Growth'], inplace=True)"
   ]
  },
  {
   "cell_type": "code",
   "execution_count": 112,
   "metadata": {},
   "outputs": [],
   "source": [
    "# Define weights for each rank\n",
    "weights = {\n",
    "    'Rank1': 0.2,\n",
    "    'Rank2': 0.15,\n",
    "    'Rank3': 0.2,\n",
    "    'Rank4': 0.1,\n",
    "    'Rank5': 0.1,\n",
    "    'Rank6': 0.05,\n",
    "    'Rank7': 0.1,\n",
    "    'Rank8': 0.1\n",
    "}\n",
    "\n",
    "# Group by 'Market Cap' categories\n",
    "grouped = df.groupby('Market Cap')\n",
    "\n",
    "# Initialize an empty list to store the results\n",
    "result_dfs = []\n",
    "\n",
    "# Iterate over each group\n",
    "for name, group in grouped:\n",
    "    # Calculate ranks within each group\n",
    "    group['Rank1'] = group['Fundamentals'].rank(method='min', ascending=False)\n",
    "    group['Rank2'] = group['Investor Sentiment'].rank(method='min', ascending=False)\n",
    "    group['Rank3'] = group['Promoter Sentiment'].rank(method='min', ascending=False)\n",
    "    group['Rank4'] = group['Pricing'].rank(method='min', ascending=True)\n",
    "    group['Rank5'] = group['Valuation'].rank(method='min', ascending=True)\n",
    "    group['Rank6'] = group['Profitability'].rank(method='min', ascending=False)\n",
    "    group['Rank7'] = group['Business Turnover'].rank(method='min', ascending=False)\n",
    "    group['Rank8'] = group['Future Growth'].rank(method='min', ascending=False)\n",
    "    \n",
    "    # Calculate weighted rank\n",
    "    group['Weighted_rank'] = group[list(weights.keys())].mul(list(weights.values())).sum(axis=1)\n",
    "    \n",
    "    # Calculate final rank\n",
    "    group['Rank'] = group['Weighted_rank'].rank(method='min', ascending=True)\n",
    "    \n",
    "    # Reorder columns\n",
    "    columns_order = ['Rank', 'Name', 'Ticker', 'Sub-Sector', 'Market Cap', 'Fundamentals', 'Investor Sentiment', 'Promoter Sentiment', 'Pricing', 'Valuation', 'Profitability', 'Business Turnover', 'Future Growth']\n",
    "    group = group[columns_order]\n",
    "    \n",
    "    # Append the result to the list\n",
    "    result_dfs.append(group)\n",
    "\n",
    "# Concatenate the results\n",
    "df = pd.concat(result_dfs)"
   ]
  },
  {
   "cell_type": "markdown",
   "metadata": {},
   "source": [
    "## Final Model"
   ]
  },
  {
   "cell_type": "code",
   "execution_count": 117,
   "metadata": {},
   "outputs": [
    {
     "data": {
      "text/html": [
       "<div>\n",
       "<style scoped>\n",
       "    .dataframe tbody tr th:only-of-type {\n",
       "        vertical-align: middle;\n",
       "    }\n",
       "\n",
       "    .dataframe tbody tr th {\n",
       "        vertical-align: top;\n",
       "    }\n",
       "\n",
       "    .dataframe thead th {\n",
       "        text-align: right;\n",
       "    }\n",
       "</style>\n",
       "<table border=\"1\" class=\"dataframe\">\n",
       "  <thead>\n",
       "    <tr style=\"text-align: right;\">\n",
       "      <th></th>\n",
       "      <th>Rank</th>\n",
       "      <th>Name</th>\n",
       "      <th>Ticker</th>\n",
       "      <th>Sub-Sector</th>\n",
       "      <th>Market Cap</th>\n",
       "      <th>Fundamentals</th>\n",
       "      <th>Investor Sentiment</th>\n",
       "      <th>Promoter Sentiment</th>\n",
       "      <th>Pricing</th>\n",
       "      <th>Valuation</th>\n",
       "      <th>Profitability</th>\n",
       "      <th>Business Turnover</th>\n",
       "      <th>Future Growth</th>\n",
       "    </tr>\n",
       "  </thead>\n",
       "  <tbody>\n",
       "    <tr>\n",
       "      <th>1</th>\n",
       "      <td>1.0</td>\n",
       "      <td>DLF Ltd</td>\n",
       "      <td>DLF</td>\n",
       "      <td>Real Estate</td>\n",
       "      <td>Large</td>\n",
       "      <td>44.0</td>\n",
       "      <td>0.042063</td>\n",
       "      <td>0.000000</td>\n",
       "      <td>37684.312833</td>\n",
       "      <td>59.790962</td>\n",
       "      <td>138.017270</td>\n",
       "      <td>0.000985</td>\n",
       "      <td>7.709333</td>\n",
       "    </tr>\n",
       "    <tr>\n",
       "      <th>2</th>\n",
       "      <td>2.0</td>\n",
       "      <td>Macrotech Developers Ltd</td>\n",
       "      <td>LODHA</td>\n",
       "      <td>Real Estate</td>\n",
       "      <td>Large</td>\n",
       "      <td>3.5</td>\n",
       "      <td>-0.093486</td>\n",
       "      <td>-1.128313</td>\n",
       "      <td>57654.480257</td>\n",
       "      <td>45.890393</td>\n",
       "      <td>16.021454</td>\n",
       "      <td>0.000651</td>\n",
       "      <td>442.001503</td>\n",
       "    </tr>\n",
       "  </tbody>\n",
       "</table>\n",
       "</div>"
      ],
      "text/plain": [
       "   Rank                      Name Ticker   Sub-Sector Market Cap  \\\n",
       "1   1.0                   DLF Ltd    DLF  Real Estate      Large   \n",
       "2   2.0  Macrotech Developers Ltd  LODHA  Real Estate      Large   \n",
       "\n",
       "   Fundamentals  Investor Sentiment  Promoter Sentiment       Pricing  \\\n",
       "1          44.0            0.042063            0.000000  37684.312833   \n",
       "2           3.5           -0.093486           -1.128313  57654.480257   \n",
       "\n",
       "   Valuation  Profitability  Business Turnover  Future Growth  \n",
       "1  59.790962     138.017270           0.000985       7.709333  \n",
       "2  45.890393      16.021454           0.000651     442.001503  "
      ]
     },
     "execution_count": 117,
     "metadata": {},
     "output_type": "execute_result"
    }
   ],
   "source": [
    "df = df.sort_values(by='Rank', ascending=True)\n",
    "df"
   ]
  },
  {
   "cell_type": "code",
   "execution_count": 94,
   "metadata": {},
   "outputs": [
    {
     "name": "stdout",
     "output_type": "stream",
     "text": [
      "Data has been saved to the 'Healthcare' sheet in the Excel file.\n"
     ]
    }
   ],
   "source": [
    "# File path to your Excel file\n",
    "excel_file_path = 'Sector Analysis.xlsx'\n",
    "\n",
    "# Load the existing Excel workbook\n",
    "wb = load_workbook(excel_file_path)\n",
    "\n",
    "# Create a new sheet called 'Healthcare'\n",
    "ws = wb.create_sheet(title='Healthcare')\n",
    "\n",
    "# Group the data by Market Cap and save them in different dataframes\n",
    "grouped = df.groupby('Market Cap')\n",
    "\n",
    "# Initialize row counter\n",
    "row_counter = 1\n",
    "\n",
    "# Loop through each group\n",
    "for name, group in grouped:\n",
    "    # Write the headers starting from the fourth row\n",
    "    ws.cell(row=row_counter + 1, column=1)\n",
    "    ws.append(group.columns.tolist())  # Write headers\n",
    "    \n",
    "    # Write the data\n",
    "    for row in group.itertuples(index=False):\n",
    "        ws.append(list(row))\n",
    "    \n",
    "    # Add space of 4 rows between each dataframe\n",
    "    row_counter = ws.max_row + 1\n",
    "\n",
    "# Save the workbook\n",
    "wb.save(excel_file_path)\n",
    "\n",
    "print(\"Data has been saved to the 'Healthcare' sheet in the Excel file.\")"
   ]
  },
  {
   "cell_type": "code",
   "execution_count": null,
   "metadata": {},
   "outputs": [],
   "source": []
  }
 ],
 "metadata": {
  "kernelspec": {
   "display_name": "Python 3",
   "language": "python",
   "name": "python3"
  },
  "language_info": {
   "codemirror_mode": {
    "name": "ipython",
    "version": 3
   },
   "file_extension": ".py",
   "mimetype": "text/x-python",
   "name": "python",
   "nbconvert_exporter": "python",
   "pygments_lexer": "ipython3",
   "version": "3.11.4"
  }
 },
 "nbformat": 4,
 "nbformat_minor": 2
}
