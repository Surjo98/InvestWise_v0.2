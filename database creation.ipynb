{
 "cells": [
  {
   "cell_type": "code",
   "execution_count": 1,
   "metadata": {},
   "outputs": [],
   "source": [
    "import os\n",
    "import pandas as pd\n",
    "\n",
    "# Path to the Trendlyne folder\n",
    "folder_path_tl = \"Trendlyne\"\n",
    "folder_path_tt = \"Tickertape\"\n",
    "\n",
    "# List to store dataframes\n",
    "dfs = []\n",
    "for file in os.listdir(folder_path_tl):\n",
    "    if file.endswith(\".xlsx\"):\n",
    "\n",
    "        file_path = os.path.join(folder_path_tl, file)\n",
    "        df = pd.read_excel(file_path)\n",
    "        df.drop(columns=['Stock Name', 'BSE code', 'ISIN', 'Current Price', 'Industry Name'], inplace=True)\n",
    "        df.rename(columns={'NSE code': 'Ticker'}, inplace=True)\n",
    "        dfs.append(df)\n",
    "\n",
    "df_tl = pd.concat(dfs, ignore_index=True)\n",
    "\n",
    "\n",
    "dfs = []\n",
    "for file_name in os.listdir(folder_path_tt):\n",
    "    if file_name.endswith('.csv'):\n",
    "\n",
    "        file_path = os.path.join(folder_path_tt, file_name)\n",
    "        df = pd.read_csv(file_path)\n",
    "        df.insert(2, 'Sector', file_name.split('.')[0])\n",
    "        dfs.append(df)\n",
    "\n",
    "df_tt = pd.concat(dfs, ignore_index=True)\n",
    "\n",
    "# Concatenate sub-dfs into final df\n",
    "df = pd.merge(df_tt, df_tl, on='Ticker', how='inner')"
   ]
  },
  {
   "cell_type": "code",
   "execution_count": 2,
   "metadata": {},
   "outputs": [
    {
     "name": "stdout",
     "output_type": "stream",
     "text": [
      "Combined data has been saved.\n"
     ]
    }
   ],
   "source": [
    "# Create a new Excel writer object\n",
    "with pd.ExcelWriter('Sector_Universe_Data.xlsx') as writer:\n",
    "    # Iterate over unique sectors\n",
    "    for sector in df['Sector'].unique():\n",
    "        sector_df = df[df['Sector'] == sector]\n",
    "        sector_df.to_excel(writer, sheet_name=sector, index=False)\n",
    "\n",
    "print(\"Combined data has been saved.\")"
   ]
  },
  {
   "cell_type": "code",
   "execution_count": null,
   "metadata": {},
   "outputs": [],
   "source": []
  }
 ],
 "metadata": {
  "kernelspec": {
   "display_name": "Python 3",
   "language": "python",
   "name": "python3"
  },
  "language_info": {
   "codemirror_mode": {
    "name": "ipython",
    "version": 3
   },
   "file_extension": ".py",
   "mimetype": "text/x-python",
   "name": "python",
   "nbconvert_exporter": "python",
   "pygments_lexer": "ipython3",
   "version": "3.11.4"
  }
 },
 "nbformat": 4,
 "nbformat_minor": 2
}
